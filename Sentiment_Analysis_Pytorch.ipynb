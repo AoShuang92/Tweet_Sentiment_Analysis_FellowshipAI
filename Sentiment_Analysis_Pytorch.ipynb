{
 "metadata": {
  "name": "",
  "signature": "sha256:35b1dc4e194ed203208515e56b747fa630a938ef7486fdb48e5450a5769b7639"
 },
 "nbformat": 3,
 "nbformat_minor": 0,
 "worksheets": [
  {
   "cells": [
    {
     "cell_type": "code",
     "collapsed": false,
     "input": [
      "#Basic lib\n",
      "import numpy as np \n",
      "import os\n",
      "import string\n",
      "import pandas as pd\n",
      "import seaborn as sns\n",
      "%matplotlib inline\n",
      "import matplotlib.pyplot as plt\n",
      "from sklearn.metrics import f1_score\n",
      "#NLP\n",
      "from torchtext import data\n",
      "from torchtext.vocab import Vectors, GloVe\n",
      "import nltk\n",
      "from nltk.util import ngrams\n",
      "from nltk.tokenize import word_tokenize\n",
      "from nltk.stem import WordNetLemmatizer\n",
      "from nltk.corpus import wordnet\n",
      "import re\n",
      "#torch\n",
      "import torch\n",
      "import torch.nn as nn\n",
      "from torch.autograd import Variable\n",
      "from torch.nn import functional as F"
     ],
     "language": "python",
     "metadata": {},
     "outputs": [],
     "prompt_number": 1
    },
    {
     "cell_type": "heading",
     "level": 2,
     "metadata": {},
     "source": [
      "# data sample visualization"
     ]
    },
    {
     "cell_type": "code",
     "collapsed": false,
     "input": [
      "df = pd.read_csv('Tweets.csv')\n",
      "df.head()"
     ],
     "language": "python",
     "metadata": {},
     "outputs": [
      {
       "html": [
        "<div>\n",
        "<style scoped>\n",
        "    .dataframe tbody tr th:only-of-type {\n",
        "        vertical-align: middle;\n",
        "    }\n",
        "\n",
        "    .dataframe tbody tr th {\n",
        "        vertical-align: top;\n",
        "    }\n",
        "\n",
        "    .dataframe thead th {\n",
        "        text-align: right;\n",
        "    }\n",
        "</style>\n",
        "<table border=\"1\" class=\"dataframe\">\n",
        "  <thead>\n",
        "    <tr style=\"text-align: right;\">\n",
        "      <th></th>\n",
        "      <th>tweet_id</th>\n",
        "      <th>airline_sentiment</th>\n",
        "      <th>airline_sentiment_confidence</th>\n",
        "      <th>negativereason</th>\n",
        "      <th>negativereason_confidence</th>\n",
        "      <th>airline</th>\n",
        "      <th>airline_sentiment_gold</th>\n",
        "      <th>name</th>\n",
        "      <th>negativereason_gold</th>\n",
        "      <th>retweet_count</th>\n",
        "      <th>text</th>\n",
        "      <th>tweet_coord</th>\n",
        "      <th>tweet_created</th>\n",
        "      <th>tweet_location</th>\n",
        "      <th>user_timezone</th>\n",
        "    </tr>\n",
        "  </thead>\n",
        "  <tbody>\n",
        "    <tr>\n",
        "      <th>0</th>\n",
        "      <td>570306133677760513</td>\n",
        "      <td>neutral</td>\n",
        "      <td>1.0000</td>\n",
        "      <td>NaN</td>\n",
        "      <td>NaN</td>\n",
        "      <td>Virgin America</td>\n",
        "      <td>NaN</td>\n",
        "      <td>cairdin</td>\n",
        "      <td>NaN</td>\n",
        "      <td>0</td>\n",
        "      <td>@VirginAmerica What @dhepburn said.</td>\n",
        "      <td>NaN</td>\n",
        "      <td>2015-02-24 11:35:52 -0800</td>\n",
        "      <td>NaN</td>\n",
        "      <td>Eastern Time (US &amp; Canada)</td>\n",
        "    </tr>\n",
        "    <tr>\n",
        "      <th>1</th>\n",
        "      <td>570301130888122368</td>\n",
        "      <td>positive</td>\n",
        "      <td>0.3486</td>\n",
        "      <td>NaN</td>\n",
        "      <td>0.0000</td>\n",
        "      <td>Virgin America</td>\n",
        "      <td>NaN</td>\n",
        "      <td>jnardino</td>\n",
        "      <td>NaN</td>\n",
        "      <td>0</td>\n",
        "      <td>@VirginAmerica plus you've added commercials t...</td>\n",
        "      <td>NaN</td>\n",
        "      <td>2015-02-24 11:15:59 -0800</td>\n",
        "      <td>NaN</td>\n",
        "      <td>Pacific Time (US &amp; Canada)</td>\n",
        "    </tr>\n",
        "    <tr>\n",
        "      <th>2</th>\n",
        "      <td>570301083672813571</td>\n",
        "      <td>neutral</td>\n",
        "      <td>0.6837</td>\n",
        "      <td>NaN</td>\n",
        "      <td>NaN</td>\n",
        "      <td>Virgin America</td>\n",
        "      <td>NaN</td>\n",
        "      <td>yvonnalynn</td>\n",
        "      <td>NaN</td>\n",
        "      <td>0</td>\n",
        "      <td>@VirginAmerica I didn't today... Must mean I n...</td>\n",
        "      <td>NaN</td>\n",
        "      <td>2015-02-24 11:15:48 -0800</td>\n",
        "      <td>Lets Play</td>\n",
        "      <td>Central Time (US &amp; Canada)</td>\n",
        "    </tr>\n",
        "    <tr>\n",
        "      <th>3</th>\n",
        "      <td>570301031407624196</td>\n",
        "      <td>negative</td>\n",
        "      <td>1.0000</td>\n",
        "      <td>Bad Flight</td>\n",
        "      <td>0.7033</td>\n",
        "      <td>Virgin America</td>\n",
        "      <td>NaN</td>\n",
        "      <td>jnardino</td>\n",
        "      <td>NaN</td>\n",
        "      <td>0</td>\n",
        "      <td>@VirginAmerica it's really aggressive to blast...</td>\n",
        "      <td>NaN</td>\n",
        "      <td>2015-02-24 11:15:36 -0800</td>\n",
        "      <td>NaN</td>\n",
        "      <td>Pacific Time (US &amp; Canada)</td>\n",
        "    </tr>\n",
        "    <tr>\n",
        "      <th>4</th>\n",
        "      <td>570300817074462722</td>\n",
        "      <td>negative</td>\n",
        "      <td>1.0000</td>\n",
        "      <td>Can't Tell</td>\n",
        "      <td>1.0000</td>\n",
        "      <td>Virgin America</td>\n",
        "      <td>NaN</td>\n",
        "      <td>jnardino</td>\n",
        "      <td>NaN</td>\n",
        "      <td>0</td>\n",
        "      <td>@VirginAmerica and it's a really big bad thing...</td>\n",
        "      <td>NaN</td>\n",
        "      <td>2015-02-24 11:14:45 -0800</td>\n",
        "      <td>NaN</td>\n",
        "      <td>Pacific Time (US &amp; Canada)</td>\n",
        "    </tr>\n",
        "  </tbody>\n",
        "</table>\n",
        "</div>"
       ],
       "metadata": {},
       "output_type": "pyout",
       "prompt_number": 2,
       "text": [
        "             tweet_id airline_sentiment  airline_sentiment_confidence  \\\n",
        "0  570306133677760513           neutral                        1.0000   \n",
        "1  570301130888122368          positive                        0.3486   \n",
        "2  570301083672813571           neutral                        0.6837   \n",
        "3  570301031407624196          negative                        1.0000   \n",
        "4  570300817074462722          negative                        1.0000   \n",
        "\n",
        "  negativereason  negativereason_confidence         airline  \\\n",
        "0            NaN                        NaN  Virgin America   \n",
        "1            NaN                     0.0000  Virgin America   \n",
        "2            NaN                        NaN  Virgin America   \n",
        "3     Bad Flight                     0.7033  Virgin America   \n",
        "4     Can't Tell                     1.0000  Virgin America   \n",
        "\n",
        "  airline_sentiment_gold        name negativereason_gold  retweet_count  \\\n",
        "0                    NaN     cairdin                 NaN              0   \n",
        "1                    NaN    jnardino                 NaN              0   \n",
        "2                    NaN  yvonnalynn                 NaN              0   \n",
        "3                    NaN    jnardino                 NaN              0   \n",
        "4                    NaN    jnardino                 NaN              0   \n",
        "\n",
        "                                                text tweet_coord  \\\n",
        "0                @VirginAmerica What @dhepburn said.         NaN   \n",
        "1  @VirginAmerica plus you've added commercials t...         NaN   \n",
        "2  @VirginAmerica I didn't today... Must mean I n...         NaN   \n",
        "3  @VirginAmerica it's really aggressive to blast...         NaN   \n",
        "4  @VirginAmerica and it's a really big bad thing...         NaN   \n",
        "\n",
        "               tweet_created tweet_location               user_timezone  \n",
        "0  2015-02-24 11:35:52 -0800            NaN  Eastern Time (US & Canada)  \n",
        "1  2015-02-24 11:15:59 -0800            NaN  Pacific Time (US & Canada)  \n",
        "2  2015-02-24 11:15:48 -0800      Lets Play  Central Time (US & Canada)  \n",
        "3  2015-02-24 11:15:36 -0800            NaN  Pacific Time (US & Canada)  \n",
        "4  2015-02-24 11:14:45 -0800            NaN  Pacific Time (US & Canada)  "
       ]
      }
     ],
     "prompt_number": 2
    },
    {
     "cell_type": "heading",
     "level": 2,
     "metadata": {},
     "source": [
      "# class frequency plot"
     ]
    },
    {
     "cell_type": "code",
     "collapsed": false,
     "input": [
      "sns.set(style=\"darkgrid\")\n",
      "ax = sns.countplot(x=\"airline_sentiment\", data=df)\n",
      "plt.show()"
     ],
     "language": "python",
     "metadata": {},
     "outputs": [
      {
       "metadata": {},
       "output_type": "display_data",
       "png": "[encoded data removed]",
       "text": [
        "<Figure size 600x400 with 1 Axes>"
       ]
      }
     ],
     "prompt_number": 3
    },
    {
     "cell_type": "heading",
     "level": 2,
     "metadata": {},
     "source": [
      "#negative reason plot"
     ]
    },
    {
     "cell_type": "code",
     "collapsed": false,
     "input": [
      "ax = sns.countplot(x='negativereason',data=df)\n",
      "ax.set_xticklabels(ax.get_xticklabels(), rotation=60)\n",
      "plt.show()"
     ],
     "language": "python",
     "metadata": {},
     "outputs": [
      {
       "metadata": {},
       "output_type": "display_data",
       "png": "[encoded data removed]",
       "text": [
        "<Figure size 600x400 with 1 Axes>"
       ]
      }
     ],
     "prompt_number": 4
    },
    {
     "cell_type": "heading",
     "level": 2,
     "metadata": {},
     "source": [
      "#data preprocessing"
     ]
    },
    {
     "cell_type": "markdown",
     "metadata": {},
     "source": [
      "As twitter messages do not require a fixed pattern or grammatical correction, people may use emoji, hashtags, repeated punctuation or abbreviations to express their feelings. However for the purpose of sentiment analysis, redundant parts are removed in the data cleansing process to transform the data into plain text. For word embedding, I apply GloVe as it is with less sparsity compared to Word2Vec."
     ]
    },
    {
     "cell_type": "code",
     "collapsed": false,
     "input": [
      "def remove_unnecessary(text):\n",
      "    #remove_URL\n",
      "    url = re.compile(r'https?://\\S+|www\\.\\S+')\n",
      "    text = url.sub('', text)\n",
      "\n",
      "    #remove_html\n",
      "    html = re.compile(r'<.*?>')\n",
      "    text = html.sub('', text)\n",
      "\n",
      "    #remove @\n",
      "    text = re.sub('@[^\\s]+','',text)\n",
      "\n",
      "    #remove_emoji\n",
      "    emoji_pattern = re.compile(\"[\"\n",
      "                           u\"\\U0001F600-\\U0001F64F\"  # emoticons\n",
      "                           u\"\\U0001F300-\\U0001F5FF\"  # symbols & pictographs\n",
      "                           u\"\\U0001F680-\\U0001F6FF\"  # transport & map symbols\n",
      "                           u\"\\U0001F1E0-\\U0001F1FF\"  # flags (iOS)\n",
      "                           u\"\\U00002702-\\U000027B0\"\n",
      "                           u\"\\U000024C2-\\U0001F251\"\n",
      "                           \"]+\", flags=re.UNICODE)\n",
      "    text = emoji_pattern.sub(r'', text)\n",
      "\n",
      "    #Removes integers \n",
      "    text = ''.join([i for i in text if not i.isdigit()])         \n",
      "    \n",
      "    #remove_punct\n",
      "    table = str.maketrans('', '', string.punctuation)\n",
      "    text = text.translate(table)\n",
      "\n",
      "    #Replaces contractions from a string to their equivalents \n",
      "    contraction_patterns = [(r'won\\'t', 'will not'), (r'can\\'t', 'cannot'), (r'i\\'m', 'i am'), \n",
      "                            (r'ain\\'t', 'is not'), (r'(\\w+)\\'ll', '\\g<1> will'), (r'(\\w+)n\\'t', '\\g<1> not'),\n",
      "                            (r'(\\w+)\\'ve', '\\g<1> have'), (r'(\\w+)\\'s', '\\g<1> is'), (r'(\\w+)\\'re', '\\g<1> are'),\n",
      "                            (r'(\\w+)\\'d', '\\g<1> would'), (r'&', 'and'), (r'dammit', 'damn it'), \n",
      "                            (r'dont', 'do not'), (r'wont', 'will not')]\n",
      "    \n",
      "    patterns = [(re.compile(regex), repl) for (regex, repl) in contraction_patterns]\n",
      "    for (pattern, repl) in patterns:\n",
      "        text, _= re.subn(pattern, repl, text)\n",
      "\n",
      "\n",
      "\n",
      "    #lemmatize_sentence\n",
      "    sentence_words = text.split(' ')\n",
      "    new_sentence_words = list()\n",
      "    \n",
      "    for sentence_word in sentence_words:\n",
      "        sentence_word = sentence_word.replace('#', '')\n",
      "        new_sentence_word = WordNetLemmatizer().lemmatize(sentence_word.lower(), wordnet.VERB)\n",
      "        new_sentence_words.append(new_sentence_word)\n",
      "        \n",
      "    new_sentence = ' '.join(new_sentence_words)\n",
      "    new_sentence = new_sentence.strip()\n",
      "\n",
      "    return new_sentence\n",
      "\n",
      "\n",
      "def prepare_csv(df_train, seed=27, val_ratio=0.2):\n",
      "    idx = np.arange(df_train.shape[0])    \n",
      "    np.random.shuffle(idx)\n",
      "    val_size = int(len(idx) * val_ratio)\n",
      "    if not os.path.exists('cache'): # cache is tem memory file \n",
      "        os.makedirs('cache')\n",
      "    \n",
      "    df_train.iloc[idx[val_size:], :][['tweet_id', 'airline_sentiment', 'text']].to_csv(\n",
      "        'cache/dataset_train.csv', index=False)\n",
      "    \n",
      "    df_train.iloc[idx[:val_size], :][['tweet_id', 'airline_sentiment', 'text']].to_csv(\n",
      "        'cache/dataset_val.csv', index=False)    \n",
      "    \n",
      "def get_iterator(dataset, batch_size, train=True,\n",
      "                 shuffle=True, repeat=False, device=None): \n",
      "    dataset_iter = data.Iterator(\n",
      "        dataset, batch_size=batch_size, device=device,\n",
      "        train=train, shuffle=shuffle, repeat=repeat,\n",
      "        sort=False)  \n",
      "    return dataset_iter\n",
      "\n",
      "def get_dataset(fix_length=25, lower=False, vectors=None,train_dir = 'Tweets.csv', batch_size=1, device=None): \n",
      "    print('Preparing dataset...')\n",
      "    train = pd.read_csv(train_dir,error_bad_lines=False)\n",
      "    train['text'] = train['text'].apply(lambda x: remove_unnecessary(x))\n",
      "    \n",
      "    if vectors is not None:\n",
      "        lower=True\n",
      "    #to split dataset for train and validation\n",
      "    prepare_csv(train)\n",
      "    \n",
      "    TEXT = data.Field(sequential=True, \n",
      "                      lower=True, \n",
      "                      include_lengths=True, \n",
      "                      batch_first=True, \n",
      "                      fix_length=fix_length)\n",
      "    LABEL = data.Field(use_vocab=True, sequential=False, dtype=torch.float16)\n",
      "    ID = data.Field(use_vocab=False, sequential=False, dtype=torch.float16)   \n",
      "    train_temp, val_temp = data.TabularDataset.splits(\n",
      "        path='cache/', format='csv', skip_header=True,\n",
      "        train='dataset_train.csv', validation='dataset_val.csv',\n",
      "        fields=[('tweet_id', ID), ('airline_sentiment', LABEL), ('text', TEXT)])  \n",
      "  \n",
      "    TEXT.build_vocab(\n",
      "        train_temp, val_temp,\n",
      "        max_size=20000,\n",
      "        min_freq=10,\n",
      "        vectors=GloVe(name='6B', dim=300)  \n",
      "    )\n",
      "    LABEL.build_vocab( train_temp)\n",
      "    ID.build_vocab(train_temp, val_temp)\n",
      "\n",
      "    word_embeddings = TEXT.vocab.vectors\n",
      "    vocab_size = len(TEXT.vocab)\n",
      "    \n",
      "    train_iter = get_iterator(train_temp, batch_size=batch_size, \n",
      "                              train=True, shuffle=True,\n",
      "                              repeat=False,device=device)\n",
      "    val_iter = get_iterator(val_temp, batch_size=batch_size, \n",
      "                            train=True, shuffle=True,\n",
      "                            repeat=False, device=device)\n",
      "\n",
      "    print('Train samples:%d'%(len(train_temp)), 'Valid samples:%d'%(len(val_temp)),'Train minibatch nb:%d'%(len(train_iter)),\n",
      "          'Valid minibatch nb:%d'%(len(val_iter)))\n",
      "    return vocab_size, word_embeddings, train_iter, val_iter\n"
     ],
     "language": "python",
     "metadata": {},
     "outputs": [],
     "prompt_number": 5
    },
    {
     "cell_type": "heading",
     "level": 2,
     "metadata": {},
     "source": [
      "#Utils"
     ]
    },
    {
     "cell_type": "code",
     "collapsed": false,
     "input": [
      "def seed_everything(seed=27):\n",
      "  #random.seed(seed)\n",
      "  torch.manual_seed(seed)\n",
      "  torch.cuda.manual_seed_all(seed)\n",
      "  np.random.seed(seed)\n",
      "  os.environ['PYTHONHASHSEED'] = str(seed)\n",
      "  torch.backends.cudnn.deterministic = True\n",
      "  torch.backends.cudnn.benchmark = False\n",
      "\n",
      "# to load the pretrained model by ignoring layers with different size\n",
      "def update_with_pretrained_weights(model, model_path):\n",
      "    model_dict = model.state_dict()\n",
      "    pretrained_dict = torch.load(model_path)\n",
      "    diff = {k: v for k, v in model_dict.items() if \\\n",
      "            k in pretrained_dict and pretrained_dict[k].size() != v.size()}\n",
      "\n",
      "    pretrained_dict.update(diff)\n",
      "    model.load_state_dict(pretrained_dict)\n",
      "    return model"
     ],
     "language": "python",
     "metadata": {},
     "outputs": [],
     "prompt_number": 6
    },
    {
     "cell_type": "heading",
     "level": 2,
     "metadata": {},
     "source": [
      "#Proposed architecture:"
     ]
    },
    {
     "cell_type": "markdown",
     "metadata": {},
     "source": [
      "The proposed model is bi-directional LSTM followed by two fully connected (FC) layers. I also integrate squeeze and excitation[1] module before each FC layer.\n",
      "\n",
      "[1]Hu, Jie, Li Shen, and Gang Sun. \"Squeeze-and-excitation networks.\" Proceedings of the IEEE conference on computer vision and pattern recognition. 2018."
     ]
    },
    {
     "cell_type": "code",
     "collapsed": false,
     "input": [
      "class se_attention(nn.Module):\n",
      "    def __init__(self, num_channels=None, reduction=8):\n",
      "        super(se_attention, self).__init__()\n",
      "        self.conv = nn.Conv2d(num_channels, 1, 1)\n",
      "        self.fc1 = nn.Linear(num_channels, num_channels // reduction)\n",
      "        self.relu = nn.ReLU(inplace=True)\n",
      "        self.fc2 = nn.Linear(num_channels // reduction, num_channels)\n",
      "        self.sigmoid = nn.Sigmoid()\n",
      "    def forward(self, input_tensor):\n",
      "        x = self.relu(self.fc1(input_tensor))\n",
      "        x = self.fc2(x)\n",
      "        x = self.sigmoid(x)\n",
      "        return torch.mul(input_tensor, x)\n",
      "    \n",
      "class LSTM_SE(nn.Module):\n",
      "    def __init__(self, vocab_size, output_size, embedding_length, hidden_size, batch_size,  weights):\n",
      "        super(LSTM_SE, self).__init__()\n",
      "        \n",
      "        \"\"\"\n",
      "        Arguments\n",
      "        ---------\n",
      "        batch_size : Size of the batch which is same as the batch_size of the data returned by the TorchText BucketIterator\n",
      "        output_size : 3 = (pos, neg, neu)\n",
      "        hidden_sie : Size of the hidden_state of the LSTM\n",
      "        vocab_size : Size of the vocabulary containing unique words\n",
      "        embedding_length : Embeddding dimension of GloVe word embeddings\n",
      "        weights : Pre-trained GloVe word_embeddings which we will use to create our word_embedding look-up table \n",
      "        \n",
      "        \"\"\"\n",
      "        \n",
      "        self.batch_size = batch_size\n",
      "        self.output_size = output_size\n",
      "        self.hidden_size = hidden_size\n",
      "        self.vocab_size = vocab_size\n",
      "        self.embedding_length = embedding_length\n",
      "        \n",
      "        self.word_embeddings = nn.Embedding(vocab_size, embedding_length)# Initializing the look-up table.\n",
      "        self.word_embeddings.weight = nn.Parameter(weights, requires_grad=False) # Assigning the look-up table to the pre-trained GloVe word embedding.\n",
      "        self.lstm = nn.LSTM(embedding_length, hidden_size, num_layers=2, bidirectional=True)\n",
      "        self.attn_fc1 = se_attention(num_channels=hidden_size)\n",
      "        self.fc1 = nn.Linear(hidden_size, 32)\n",
      "        self.attn_out = se_attention(num_channels=32)\n",
      "        self.label = nn.Linear(32, output_size)\n",
      "        \n",
      "    def forward(self, input_sentence, batch_size=None):\n",
      "\n",
      "        \"\"\" \n",
      "        Parameters\n",
      "        ----------\n",
      "        input_sentence: input_sentence of shape = (batch_size, num_sequences)\n",
      "        batch_size : default = None. Used only for prediction on a single sentence after training (batch_size = 1)\n",
      "        \n",
      "        Returns\n",
      "        -------\n",
      "        Output of the linear layer containing logits for positive & negative class which receives its input as the final_hidden_state of the LSTM\n",
      "        final_output.shape = (batch_size, output_size)\n",
      "        \n",
      "        \"\"\"\n",
      "        \n",
      "        ''' Here we will map all the indexes present in the input sequence to the corresponding word vector using our pre-trained word_embedddins.'''\n",
      "        input = self.word_embeddings(input_sentence) # embedded input of shape = (batch_size, num_sequences,  embedding_length)\n",
      "        input = input.permute(1, 0, 2) # input.size() = (num_sequences, batch_size, embedding_length)\n",
      "        if batch_size is None:\n",
      "            h_0 = Variable(torch.zeros(4, self.batch_size, self.hidden_size).cuda()) # Initial hidden state of the LSTM\n",
      "            c_0 = Variable(torch.zeros(4, self.batch_size, self.hidden_size).cuda()) # Initial cell state of the LSTM\n",
      "        else:\n",
      "            h_0 = Variable(torch.zeros(2, batch_size, self.hidden_size).cuda())\n",
      "            c_0 = Variable(torch.zeros(2, batch_size, self.hidden_size).cuda())\n",
      "                \n",
      "        output, (final_hidden_state, final_cell_state) = self.lstm(input, (h_0, c_0))\n",
      "        hidden_state = final_hidden_state[-1]\n",
      "        hidden_state = self.attn_fc1(hidden_state)\n",
      "        out = self.fc1(hidden_state)\n",
      "        out = self.attn_out(out)\n",
      "        logits = self.label(out) \n",
      "        return logits"
     ],
     "language": "python",
     "metadata": {},
     "outputs": [],
     "prompt_number": 7
    },
    {
     "cell_type": "heading",
     "level": 2,
     "metadata": {},
     "source": [
      "#training script"
     ]
    },
    {
     "cell_type": "code",
     "collapsed": false,
     "input": [
      "def train(model, train_iter, optim, loss, num_epochs, batch_size=1):\n",
      "    model.train()\n",
      "\n",
      "    train_epoch_loss = list()\n",
      "    train_epoch_acc = list()\n",
      "\n",
      "    for idx, batch in enumerate(train_iter):\n",
      "\n",
      "        text = batch.text[0]\n",
      "        target = batch.airline_sentiment\n",
      "        target = target - 1  # to make target begins from 0\n",
      "        target = target.type(torch.LongTensor)\n",
      "\n",
      "        text = text.to(device)\n",
      "        target = target.to(device)\n",
      "\n",
      "        optim.zero_grad()\n",
      "        if text.size()[0] != batch_size:\n",
      "            continue\n",
      "\n",
      "        prediction = model(text)\n",
      "\n",
      "        loss_train = loss(prediction.squeeze(), target)\n",
      "        loss_train.backward()\n",
      "        num_corrects = (torch.max(prediction, 1)[1].\n",
      "                            view(target.size()).data == target.data).float().sum()\n",
      "        acc = 100.0 * num_corrects / len(batch)\n",
      "        train_epoch_loss.append(loss_train.item())\n",
      "        train_epoch_acc.append(acc.item())\n",
      "\n",
      "        torch.nn.utils.clip_grad_norm_(model.parameters(), 5)\n",
      "\n",
      "        optim.step()\n",
      "    return model, train_epoch_loss, train_epoch_acc\n",
      "\n",
      "def valid(model, val_iter, loss, batch_size=1):\n",
      "    val_epoch_loss = list()\n",
      "    val_epoch_acc = list()\n",
      "    pred_all = list()\n",
      "    target_all = list()\n",
      "    best_epoch = 0\n",
      "    best_f1 = 0\n",
      "    best_acc = 0 \n",
      "    model.eval()\n",
      "    with torch.no_grad():\n",
      "        for idx, batch in enumerate(val_iter):\n",
      "            text = batch.text[0]\n",
      "            target = batch.airline_sentiment\n",
      "            target = target - 1\n",
      "            target = target.type(torch.LongTensor)\n",
      "            text = text.to(device)\n",
      "            target = target.to(device)\n",
      "            if text.size()[0] != batch_size:\n",
      "                continue\n",
      "            logits = model(text)\n",
      "            loss_val = loss(logits.squeeze(), target)\n",
      "            predictions = torch.max(logits, 1)[1].view(target.size()).data\n",
      "            pred_all.append(predictions)\n",
      "            target_all.append(target)\n",
      "            f1 = f1_score(target.data.cpu(), predictions.cpu(), average='macro')\n",
      "            num_corrects = (predictions == target.data).float().sum()\n",
      "            acc = 100.0 * num_corrects / len(batch)\n",
      "\n",
      "            val_epoch_loss.append(loss_val.item())\n",
      "            val_epoch_acc.append(acc.item())\n",
      "    return val_epoch_loss, val_epoch_acc, f1, pred_all, target_all\n",
      "            \n",
      "def train_model(model, train_iter, val_iter, optim, loss, num_epochs, batch_size=1):\n",
      "    clip = 5\n",
      "    total_train_epoch_loss = list()\n",
      "    total_train_epoch_acc = list()\n",
      "        \n",
      "    total_val_epoch_loss = list()\n",
      "    total_val_epoch_acc = list()\n",
      "    pred_all_best = list()\n",
      "    target_all_best = list()\n",
      "        \n",
      "    best_epoch = 0\n",
      "    best_f1 = 0\n",
      "    best_acc = 0 \n",
      "    for epoch in range(num_epochs):\n",
      "        model, train_epoch_loss, train_epoch_acc = train(model, train_iter, optim, loss, num_epochs, batch_size)\n",
      "        val_epoch_loss, val_epoch_acc, f1, pred_all, target_all = valid(model, val_iter, loss, batch_size)\n",
      "        \n",
      "        \n",
      "        if np.mean(val_epoch_acc) >= best_acc:\n",
      "            best_f1 = f1\n",
      "            best_acc = np.mean(val_epoch_acc)\n",
      "            best_epoch = epoch\n",
      "            pred_all_best = pred_all\n",
      "            target_all_best = target_all\n",
      "            torch.save(model.state_dict(), 'tweets_lstm_se.pth')\n",
      "        \n",
      "        total_train_epoch_loss.append(np.mean(train_epoch_loss))\n",
      "        total_train_epoch_acc.append(np.mean(train_epoch_acc))\n",
      "    \n",
      "        total_val_epoch_loss.append(np.mean(val_epoch_loss))\n",
      "        total_val_epoch_acc.append(np.mean(val_epoch_acc))\n",
      "        print('Epoch:%d, Current Validation Acc:%.4f Best_epoch:%d Best_acc:%.4f, Best_F1:%0.4f'\n",
      "                    %(epoch,np.mean(val_epoch_acc),best_epoch, best_acc, best_f1))\n",
      "    \n",
      "    return (total_train_epoch_loss, total_train_epoch_acc,\n",
      "            total_val_epoch_loss, total_val_epoch_acc, pred_all, target_all)"
     ],
     "language": "python",
     "metadata": {},
     "outputs": [],
     "prompt_number": 8
    },
    {
     "cell_type": "heading",
     "level": 2,
     "metadata": {},
     "source": [
      "# Label Smoothen Focal Loss (LSFLoss)"
     ]
    },
    {
     "cell_type": "markdown",
     "metadata": {},
     "source": [
      "Here I have proposed a new loss function inspired by focal loss [1] and label smoothing [2]. As the dataset contains class imbalance problem, focal loss can tackle this problem. Label smoothing can improve the accuracy as well as model calibration. <br>\n",
      "\n",
      "[1] Lin, T. Y., Goyal, P., Girshick, R., He, K., & Doll\u00e1r, P. (2017). Focal loss for dense object detection. In Proceedings of the IEEE international conference on computer vision (pp. 2980-2988).<br>\n",
      "[2] M\u00fcller, Rafael, Simon Kornblith, and Geoffrey E. Hinton. \"When does label smoothing help?.\" Advances in Neural Information Processing Systems. 2019."
     ]
    },
    {
     "cell_type": "code",
     "collapsed": false,
     "input": [
      "# label smoothen focal loss (LSFLoss)\n",
      "class LSFLoss(nn.Module):\n",
      "    def __init__(self, alpha=.25, gamma= 2, smoothing=0.1, reduction='mean'):\n",
      "        super(LSFLoss, self).__init__()\n",
      "        \"\"\"\n",
      "        Arguments\n",
      "        ---------\n",
      "        alpha : 0.25 = alpha hyperparameter in focal loss\n",
      "        gamma : 1 =  gamma hyperparameter in focal loss\n",
      "        smoothing : 0.1 = smoothing factor in label smoothing\n",
      "        reduction : averaging total loss\n",
      "        \"\"\"\n",
      "        \n",
      "        self.smoothing = smoothing\n",
      "        self.reduction = reduction\n",
      "        self.gamma = gamma\n",
      "        self.alpha = alpha\n",
      "    def forward(self, x, target):\n",
      "        confidence = 1. - self.smoothing\n",
      "        logprobs = F.log_softmax(x, dim=-1)\n",
      "        ce_loss = -logprobs.gather(dim=-1, index=target.unsqueeze(1))\n",
      "        ce_loss = ce_loss.squeeze(1)\n",
      "        pt = torch.exp(-ce_loss)\n",
      "        f_loss = self.alpha * (1-pt)**self.gamma * ce_loss\n",
      "        smooth_loss = -logprobs.mean(dim=-1)\n",
      "        loss = confidence * f_loss + self.smoothing * smooth_loss\n",
      "        if  self.reduction == 'sum':\n",
      "            lsf_loss = loss.sum()\n",
      "        elif  self.reduction == 'mean':\n",
      "            lsf_loss = loss.mean()\n",
      "        return lsf_loss"
     ],
     "language": "python",
     "metadata": {},
     "outputs": [],
     "prompt_number": 9
    },
    {
     "cell_type": "code",
     "collapsed": false,
     "input": [
      "if __name__ == \"__main__\":\n",
      "    \n",
      "    lr = 1e-4\n",
      "    batch_size = 128\n",
      "    output_size = 3\n",
      "    hidden_size = 128\n",
      "    embedding_length = 300\n",
      "    num_epochs = 50\n",
      "    seed  = 27\n",
      "    seed_everything(seed)\n",
      "    device = torch.device('cuda:0' if torch.cuda.is_available() else 'cpu')\n",
      "    \n",
      "    vocab_size, word_embeddings, train_iter, val_iter = get_dataset(fix_length=25, train_dir = 'Tweets.csv', \n",
      "            batch_size=batch_size, device=device)\n",
      "\n",
      "    model = LSTM_SE(vocab_size=vocab_size, \n",
      "                        output_size=output_size, \n",
      "                        embedding_length=embedding_length,\n",
      "                        hidden_size=hidden_size,batch_size=batch_size,\n",
      "                        weights=word_embeddings\n",
      "    )\n",
      "\n",
      "    #load the pre-trained model to apply ULMFiT   \n",
      "    #model = update_with_pretrained_weights(model,\"ULMFiT_tweet_dataset/lstm_se_tweets.pth\")\n",
      "    model.to(device)\n",
      "    optim = torch.optim.Adam(model.parameters(), lr=lr)\n",
      "    loss = LSFLoss(smoothing=0.1)\n",
      "        \n",
      "    train_loss, train_acc, val_loss, val_acc, pred_all_best, target_all_best = train_model(model=model,train_iter=train_iter,val_iter=val_iter,\n",
      "            optim=optim,loss=loss,num_epochs=num_epochs, batch_size=batch_size)"
     ],
     "language": "python",
     "metadata": {},
     "outputs": [
      {
       "output_type": "stream",
       "stream": "stdout",
       "text": [
        "Preparing dataset...\n",
        "Train samples:11712"
       ]
      },
      {
       "output_type": "stream",
       "stream": "stdout",
       "text": [
        " Valid samples:2928 Train minibatch nb:92 Valid minibatch nb:23\n",
        "Epoch:0, Current Validation Acc:61.5412 Best_epoch:0 Best_acc:61.5412, Best_F1:0.2544"
       ]
      },
      {
       "output_type": "stream",
       "stream": "stdout",
       "text": [
        "\n",
        "Epoch:1, Current Validation Acc:65.3764 Best_epoch:1 Best_acc:65.3764, Best_F1:0.4159"
       ]
      },
      {
       "output_type": "stream",
       "stream": "stdout",
       "text": [
        "\n",
        "Epoch:2, Current Validation Acc:70.8452 Best_epoch:2 Best_acc:70.8452, Best_F1:0.6237"
       ]
      },
      {
       "output_type": "stream",
       "stream": "stdout",
       "text": [
        "\n",
        "Epoch:3, Current Validation Acc:73.2955 Best_epoch:3 Best_acc:73.2955, Best_F1:0.6310"
       ]
      },
      {
       "output_type": "stream",
       "stream": "stdout",
       "text": [
        "\n",
        "Epoch:4, Current Validation Acc:73.7571 Best_epoch:4 Best_acc:73.7571, Best_F1:0.5797"
       ]
      },
      {
       "output_type": "stream",
       "stream": "stdout",
       "text": [
        "\n",
        "Epoch:5, Current Validation Acc:75.7102 Best_epoch:5 Best_acc:75.7102, Best_F1:0.7057"
       ]
      },
      {
       "output_type": "stream",
       "stream": "stdout",
       "text": [
        "\n",
        "Epoch:6, Current Validation Acc:76.1009 Best_epoch:6 Best_acc:76.1009, Best_F1:0.6977"
       ]
      },
      {
       "output_type": "stream",
       "stream": "stdout",
       "text": [
        "\n",
        "Epoch:7, Current Validation Acc:76.9176 Best_epoch:7 Best_acc:76.9176, Best_F1:0.6456"
       ]
      },
      {
       "output_type": "stream",
       "stream": "stdout",
       "text": [
        "\n",
        "Epoch:8, Current Validation Acc:77.0952 Best_epoch:8 Best_acc:77.0952, Best_F1:0.7225"
       ]
      },
      {
       "output_type": "stream",
       "stream": "stdout",
       "text": [
        "\n",
        "Epoch:9, Current Validation Acc:76.4915 Best_epoch:8 Best_acc:77.0952, Best_F1:0.7225"
       ]
      },
      {
       "output_type": "stream",
       "stream": "stdout",
       "text": [
        "\n",
        "Epoch:10, Current Validation Acc:78.4446 Best_epoch:10 Best_acc:78.4446, Best_F1:0.7221"
       ]
      },
      {
       "output_type": "stream",
       "stream": "stdout",
       "text": [
        "\n",
        "Epoch:11, Current Validation Acc:77.9474 Best_epoch:10 Best_acc:78.4446, Best_F1:0.7221"
       ]
      },
      {
       "output_type": "stream",
       "stream": "stdout",
       "text": [
        "\n",
        "Epoch:12, Current Validation Acc:78.3736 Best_epoch:10 Best_acc:78.4446, Best_F1:0.7221"
       ]
      },
      {
       "output_type": "stream",
       "stream": "stdout",
       "text": [
        "\n",
        "Epoch:13, Current Validation Acc:78.3381 Best_epoch:10 Best_acc:78.4446, Best_F1:0.7221"
       ]
      },
      {
       "output_type": "stream",
       "stream": "stdout",
       "text": [
        "\n",
        "Epoch:14, Current Validation Acc:78.1605 Best_epoch:10 Best_acc:78.4446, Best_F1:0.7221"
       ]
      },
      {
       "output_type": "stream",
       "stream": "stdout",
       "text": [
        "\n",
        "Epoch:15, Current Validation Acc:78.6932 Best_epoch:15 Best_acc:78.6932, Best_F1:0.7049"
       ]
      },
      {
       "output_type": "stream",
       "stream": "stdout",
       "text": [
        "\n",
        "Epoch:16, Current Validation Acc:78.3026 Best_epoch:15 Best_acc:78.6932, Best_F1:0.7049"
       ]
      },
      {
       "output_type": "stream",
       "stream": "stdout",
       "text": [
        "\n",
        "Epoch:17, Current Validation Acc:78.9062 Best_epoch:17 Best_acc:78.9062, Best_F1:0.6856"
       ]
      },
      {
       "output_type": "stream",
       "stream": "stdout",
       "text": [
        "\n",
        "Epoch:18, Current Validation Acc:78.2315 Best_epoch:17 Best_acc:78.9062, Best_F1:0.6856"
       ]
      },
      {
       "output_type": "stream",
       "stream": "stdout",
       "text": [
        "\n",
        "Epoch:19, Current Validation Acc:78.5866 Best_epoch:17 Best_acc:78.9062, Best_F1:0.6856"
       ]
      },
      {
       "output_type": "stream",
       "stream": "stdout",
       "text": [
        "\n",
        "Epoch:20, Current Validation Acc:78.5156 Best_epoch:17 Best_acc:78.9062, Best_F1:0.6856"
       ]
      },
      {
       "output_type": "stream",
       "stream": "stdout",
       "text": [
        "\n",
        "Epoch:21, Current Validation Acc:78.9418 Best_epoch:21 Best_acc:78.9418, Best_F1:0.6488"
       ]
      },
      {
       "output_type": "stream",
       "stream": "stdout",
       "text": [
        "\n",
        "Epoch:22, Current Validation Acc:79.0483 Best_epoch:22 Best_acc:79.0483, Best_F1:0.7488"
       ]
      },
      {
       "output_type": "stream",
       "stream": "stdout",
       "text": [
        "\n",
        "Epoch:23, Current Validation Acc:77.7699 Best_epoch:22 Best_acc:79.0483, Best_F1:0.7488"
       ]
      },
      {
       "output_type": "stream",
       "stream": "stdout",
       "text": [
        "\n",
        "Epoch:24, Current Validation Acc:79.0838 Best_epoch:24 Best_acc:79.0838, Best_F1:0.7716"
       ]
      },
      {
       "output_type": "stream",
       "stream": "stdout",
       "text": [
        "\n",
        "Epoch:25, Current Validation Acc:78.8707 Best_epoch:24 Best_acc:79.0838, Best_F1:0.7716"
       ]
      },
      {
       "output_type": "stream",
       "stream": "stdout",
       "text": [
        "\n",
        "Epoch:26, Current Validation Acc:78.4091 Best_epoch:24 Best_acc:79.0838, Best_F1:0.7716"
       ]
      },
      {
       "output_type": "stream",
       "stream": "stdout",
       "text": [
        "\n",
        "Epoch:27, Current Validation Acc:78.5156 Best_epoch:24 Best_acc:79.0838, Best_F1:0.7716"
       ]
      },
      {
       "output_type": "stream",
       "stream": "stdout",
       "text": [
        "\n",
        "Epoch:28, Current Validation Acc:77.7344 Best_epoch:24 Best_acc:79.0838, Best_F1:0.7716"
       ]
      },
      {
       "output_type": "stream",
       "stream": "stdout",
       "text": [
        "\n",
        "Epoch:29, Current Validation Acc:78.8707 Best_epoch:24 Best_acc:79.0838, Best_F1:0.7716"
       ]
      },
      {
       "output_type": "stream",
       "stream": "stdout",
       "text": [
        "\n",
        "Epoch:30, Current Validation Acc:78.9418 Best_epoch:24 Best_acc:79.0838, Best_F1:0.7716"
       ]
      },
      {
       "output_type": "stream",
       "stream": "stdout",
       "text": [
        "\n",
        "Epoch:31, Current Validation Acc:77.4148 Best_epoch:24 Best_acc:79.0838, Best_F1:0.7716"
       ]
      },
      {
       "output_type": "stream",
       "stream": "stdout",
       "text": [
        "\n",
        "Epoch:32, Current Validation Acc:78.2670 Best_epoch:24 Best_acc:79.0838, Best_F1:0.7716"
       ]
      },
      {
       "output_type": "stream",
       "stream": "stdout",
       "text": [
        "\n",
        "Epoch:33, Current Validation Acc:78.5866 Best_epoch:24 Best_acc:79.0838, Best_F1:0.7716"
       ]
      },
      {
       "output_type": "stream",
       "stream": "stdout",
       "text": [
        "\n",
        "Epoch:34, Current Validation Acc:77.9830 Best_epoch:24 Best_acc:79.0838, Best_F1:0.7716"
       ]
      },
      {
       "output_type": "stream",
       "stream": "stdout",
       "text": [
        "\n",
        "Epoch:35, Current Validation Acc:78.0895 Best_epoch:24 Best_acc:79.0838, Best_F1:0.7716"
       ]
      },
      {
       "output_type": "stream",
       "stream": "stdout",
       "text": [
        "\n",
        "Epoch:36, Current Validation Acc:77.4858 Best_epoch:24 Best_acc:79.0838, Best_F1:0.7716"
       ]
      },
      {
       "output_type": "stream",
       "stream": "stdout",
       "text": [
        "\n",
        "Epoch:37, Current Validation Acc:77.8409 Best_epoch:24 Best_acc:79.0838, Best_F1:0.7716"
       ]
      },
      {
       "output_type": "stream",
       "stream": "stdout",
       "text": [
        "\n",
        "Epoch:38, Current Validation Acc:77.3082 Best_epoch:24 Best_acc:79.0838, Best_F1:0.7716"
       ]
      },
      {
       "output_type": "stream",
       "stream": "stdout",
       "text": [
        "\n",
        "Epoch:39, Current Validation Acc:77.6278 Best_epoch:24 Best_acc:79.0838, Best_F1:0.7716"
       ]
      },
      {
       "output_type": "stream",
       "stream": "stdout",
       "text": [
        "\n",
        "Epoch:40, Current Validation Acc:78.4091 Best_epoch:24 Best_acc:79.0838, Best_F1:0.7716"
       ]
      },
      {
       "output_type": "stream",
       "stream": "stdout",
       "text": [
        "\n",
        "Epoch:41, Current Validation Acc:78.5866 Best_epoch:24 Best_acc:79.0838, Best_F1:0.7716"
       ]
      },
      {
       "output_type": "stream",
       "stream": "stdout",
       "text": [
        "\n",
        "Epoch:42, Current Validation Acc:78.5511 Best_epoch:24 Best_acc:79.0838, Best_F1:0.7716"
       ]
      },
      {
       "output_type": "stream",
       "stream": "stdout",
       "text": [
        "\n",
        "Epoch:43, Current Validation Acc:78.2315 Best_epoch:24 Best_acc:79.0838, Best_F1:0.7716"
       ]
      },
      {
       "output_type": "stream",
       "stream": "stdout",
       "text": [
        "\n",
        "Epoch:44, Current Validation Acc:78.8352 Best_epoch:24 Best_acc:79.0838, Best_F1:0.7716"
       ]
      },
      {
       "output_type": "stream",
       "stream": "stdout",
       "text": [
        "\n",
        "Epoch:45, Current Validation Acc:77.9830 Best_epoch:24 Best_acc:79.0838, Best_F1:0.7716"
       ]
      },
      {
       "output_type": "stream",
       "stream": "stdout",
       "text": [
        "\n",
        "Epoch:46, Current Validation Acc:78.3381 Best_epoch:24 Best_acc:79.0838, Best_F1:0.7716"
       ]
      },
      {
       "output_type": "stream",
       "stream": "stdout",
       "text": [
        "\n",
        "Epoch:47, Current Validation Acc:78.0895 Best_epoch:24 Best_acc:79.0838, Best_F1:0.7716"
       ]
      },
      {
       "output_type": "stream",
       "stream": "stdout",
       "text": [
        "\n",
        "Epoch:48, Current Validation Acc:77.9830 Best_epoch:24 Best_acc:79.0838, Best_F1:0.7716"
       ]
      },
      {
       "output_type": "stream",
       "stream": "stdout",
       "text": [
        "\n",
        "Epoch:49, Current Validation Acc:78.2315 Best_epoch:24 Best_acc:79.0838, Best_F1:0.7716"
       ]
      },
      {
       "output_type": "stream",
       "stream": "stdout",
       "text": [
        "\n"
       ]
      }
     ],
     "prompt_number": 10
    },
    {
     "cell_type": "heading",
     "level": 2,
     "metadata": {},
     "source": [
      "#visualize confusion matrix"
     ]
    },
    {
     "cell_type": "code",
     "collapsed": false,
     "input": [
      "from sklearn.metrics import confusion_matrix\n",
      "import matplotlib.pyplot as plt\n",
      "# Taken from the scikit-learn documentation\n",
      "def plot_confusion_matrix(y_true, y_pred, classes,\n",
      "                          normalize=False,\n",
      "                          title=None,\n",
      "                          cmap=plt.cm.Blues):\n",
      "    \"\"\"\n",
      "    This function prints and plots the confusion matrix.\n",
      "    Normalization can be applied by setting `normalize=True`.\n",
      "    \"\"\"\n",
      "    if not title:\n",
      "        if normalize:\n",
      "            title = 'Normalized confusion matrix'\n",
      "        else:\n",
      "            title = 'Confusion matrix, without normalization'\n",
      "\n",
      "    # Compute confusion matrix\n",
      "    cm = confusion_matrix(y_true, y_pred)\n",
      "    # Only use the labels that appear in the data\n",
      "    #classes = classes[unique_labels(y_true, y_pred)]\n",
      "\n",
      "    fig, ax = plt.subplots()\n",
      "    im = ax.imshow(cm, interpolation='nearest', cmap=cmap)\n",
      "    ax.figure.colorbar(im, ax=ax)\n",
      "    # We want to show all ticks...\n",
      "    ax.set(xticks=np.arange(cm.shape[1]),\n",
      "           yticks=np.arange(cm.shape[0]),\n",
      "           # ... and label them with the respective list entries\n",
      "           xticklabels=classes, yticklabels=classes,\n",
      "           title=title,\n",
      "           ylabel='True label',\n",
      "           xlabel='Predicted label')\n",
      "\n",
      "    # Rotate the tick labels and set their alignment.\n",
      "    plt.setp(ax.get_xticklabels(), rotation=45, ha=\"right\",\n",
      "             rotation_mode=\"anchor\")\n",
      "\n",
      "    # Loop over data dimensions and create text annotations.\n",
      "    fmt = '.2f' if normalize else 'd'\n",
      "    thresh = cm.max() / 2.\n",
      "    for i in range(cm.shape[0]):\n",
      "        for j in range(cm.shape[1]):\n",
      "            ax.text(j, i, format(cm[i, j], fmt),\n",
      "                    ha=\"center\", va=\"center\",\n",
      "                    color=\"white\" if cm[i, j] > thresh else \"black\")\n",
      "    fig.tight_layout()\n",
      "    return ax"
     ],
     "language": "python",
     "metadata": {},
     "outputs": [],
     "prompt_number": 11
    },
    {
     "cell_type": "code",
     "collapsed": false,
     "input": [
      "# plot the confusion matrix for the test set\n",
      "\n",
      "pred = torch.cat(pred_all_best)\n",
      "target = torch.cat(target_all_best)\n",
      "plot_confusion_matrix(target.cpu(),pred.cpu(),\n",
      "                      classes=['negative','neutral','positive'])\n",
      "plt.show()"
     ],
     "language": "python",
     "metadata": {},
     "outputs": [
      {
       "metadata": {},
       "output_type": "display_data",
       "png": "[encoded data removed]",
       "text": [
        "<Figure size 600x400 with 2 Axes>"
       ]
      }
     ],
     "prompt_number": 12
    },
    {
     "cell_type": "heading",
     "level": 2,
     "metadata": {},
     "source": [
      "#Dataset after cleaning"
     ]
    },
    {
     "cell_type": "code",
     "collapsed": false,
     "input": [
      "df = pd.read_csv('cache/dataset_train.csv')\n",
      "df.head()"
     ],
     "language": "python",
     "metadata": {},
     "outputs": [
      {
       "html": [
        "<div>\n",
        "<style scoped>\n",
        "    .dataframe tbody tr th:only-of-type {\n",
        "        vertical-align: middle;\n",
        "    }\n",
        "\n",
        "    .dataframe tbody tr th {\n",
        "        vertical-align: top;\n",
        "    }\n",
        "\n",
        "    .dataframe thead th {\n",
        "        text-align: right;\n",
        "    }\n",
        "</style>\n",
        "<table border=\"1\" class=\"dataframe\">\n",
        "  <thead>\n",
        "    <tr style=\"text-align: right;\">\n",
        "      <th></th>\n",
        "      <th>tweet_id</th>\n",
        "      <th>airline_sentiment</th>\n",
        "      <th>text</th>\n",
        "    </tr>\n",
        "  </thead>\n",
        "  <tbody>\n",
        "    <tr>\n",
        "      <th>0</th>\n",
        "      <td>569262527281913857</td>\n",
        "      <td>positive</td>\n",
        "      <td>i love your guy song be dance to it for our hi...</td>\n",
        "    </tr>\n",
        "    <tr>\n",
        "      <th>1</th>\n",
        "      <td>569672292919173120</td>\n",
        "      <td>negative</td>\n",
        "      <td>it wasnt really about the delay it be more abo...</td>\n",
        "    </tr>\n",
        "    <tr>\n",
        "      <th>2</th>\n",
        "      <td>570301395141836801</td>\n",
        "      <td>negative</td>\n",
        "      <td>r u serious min delay with americanairlines aa...</td>\n",
        "    </tr>\n",
        "    <tr>\n",
        "      <th>3</th>\n",
        "      <td>567862454576787456</td>\n",
        "      <td>negative</td>\n",
        "      <td>note they be travel w yr old unreal</td>\n",
        "    </tr>\n",
        "    <tr>\n",
        "      <th>4</th>\n",
        "      <td>569243185832169472</td>\n",
        "      <td>negative</td>\n",
        "      <td>havent eat all day either so lemme get that cc...</td>\n",
        "    </tr>\n",
        "  </tbody>\n",
        "</table>\n",
        "</div>"
       ],
       "metadata": {},
       "output_type": "pyout",
       "prompt_number": 13,
       "text": [
        "             tweet_id airline_sentiment  \\\n",
        "0  569262527281913857          positive   \n",
        "1  569672292919173120          negative   \n",
        "2  570301395141836801          negative   \n",
        "3  567862454576787456          negative   \n",
        "4  569243185832169472          negative   \n",
        "\n",
        "                                                text  \n",
        "0  i love your guy song be dance to it for our hi...  \n",
        "1  it wasnt really about the delay it be more abo...  \n",
        "2  r u serious min delay with americanairlines aa...  \n",
        "3                note they be travel w yr old unreal  \n",
        "4  havent eat all day either so lemme get that cc...  "
       ]
      }
     ],
     "prompt_number": 13
    },
    {
     "cell_type": "heading",
     "level": 2,
     "metadata": {},
     "source": [
      "#Result comparison with multiple models"
     ]
    },
    {
     "cell_type": "markdown",
     "metadata": {},
     "source": [
      "Basic LSTM: Best_acc:78.9062, Best_F1:0.6321<br>\n",
      "LSTM_ATTN: Best_acc:75.3906, Best_F1:0.7737<br>\n",
      "RNN: Best_acc:78.2670, Best_F1:0.7117<br>\n",
      "RCNN: Best_acc:78.7585, Best_F1:0.7083<br>\n",
      "RNN_ATTENTION: Best_acc:78.6932, Best_F1:0.7152<br>\n",
      "Proposed Architecture:Best_acc:79.0838, Best_F1:0.7716<br>\n",
      "\n",
      "From the above result, it is clear that the proposed model outperforms all other sequential models in terms of accuracy and F1 score. From the confusion matrix above, we can see that the model predict mostly correct in positive and negative class, but the neutual class is about half correct.\n",
      "\n"
     ]
    },
    {
     "cell_type": "heading",
     "level": 2,
     "metadata": {},
     "source": [
      "#Conclusion"
     ]
    },
    {
     "cell_type": "markdown",
     "metadata": {},
     "source": [
      "I use bi-directional LSTM with squeeze and excitation to predict sentiment of positive, negative and neutral from Twitter US Airline Sentiment dataset. I have proposed a new loss function inspired by focal loss and label smoothing to deal with class imbalance issue. The proposed model outperforms the recent sequential models like LSTM, RNN and RCNN. ULMFiT technique is also integrated with the proposed model, which does not increase the accuracy. Further experiment will focus on Language Modeling with Self Supervised Learning (SSL) scheme."
     ]
    },
    {
     "cell_type": "code",
     "collapsed": false,
     "input": [],
     "language": "python",
     "metadata": {},
     "outputs": []
    }
   ],
   "metadata": {}
  }
 ]
}